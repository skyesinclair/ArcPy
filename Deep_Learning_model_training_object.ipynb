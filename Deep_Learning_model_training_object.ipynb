{
 "cells": [
  {
   "cell_type": "code",
   "execution_count": 1,
   "id": "65f0696c-3bbc-49da-a763-e9f59120eacb",
   "metadata": {},
   "outputs": [
    {
     "name": "stdout",
     "output_type": "stream",
     "text": [
      "📦 Preparing object detection data...\n"
     ]
    },
    {
     "name": "stderr",
     "output_type": "stream",
     "text": [
      "Please check your dataset. 29131 images dont have the corresponding label files.\n"
     ]
    },
    {
     "name": "stdout",
     "output_type": "stream",
     "text": [
      "🧠 Initializing FasterRCNN model...\n",
      "⚙️ Using GPU: NVIDIA GeForce RTX 3060\n"
     ]
    }
   ],
   "source": [
    "from arcgis.learn import FasterRCNN, prepare_data\n",
    "import torch\n",
    "import os\n",
    "\n",
    "# ---- Training settings ----\n",
    "epochsNum = 10  # Number of training epochs\n",
    "batchNum = 4    # Batch size\n",
    "chipSize = 512  # Recommended chip size for object detection (not too large)\n",
    "numWorkers = 4  # CPU workers for data loading\n",
    "\n",
    "# ---- Paths ----\n",
    "training_data_path = r\"C:\\Users\\ss2596\\Documents\\njoko training\\Ag_Object512(truefalse)\"\n",
    "model_output_path = r\"C:\\Users\\ss2596\\Documents\\Njoko_model\\Ag_Object512(truefalse)\"\n",
    "\n",
    "# ---- Prepare object detection data ----\n",
    "print(\"📦 Preparing object detection data...\", flush=True)\n",
    "data = prepare_data(\n",
    "    path=training_data_path,\n",
    "    batch_size=batchNum,\n",
    "    chip_size=chipSize,\n",
    "    num_workers=numWorkers,\n",
    "    dataset_type=\"ObjectDetection\"  # Crucial for object detection\n",
    ")\n",
    "\n",
    "# ---- Initialize FasterRCNN model ----\n",
    "print(\"🧠 Initializing FasterRCNN model...\", flush=True)\n",
    "model = FasterRCNN(data)\n",
    "\n",
    "\n",
    "# ---- Create output folder if needed ----\n",
    "os.makedirs(model_output_path, exist_ok=True)\n",
    "\n",
    "# ---- Detect and display GPU device ----\n",
    "if torch.cuda.is_available():\n",
    "    gpu_name = torch.cuda.get_device_name(torch.cuda.current_device())\n",
    "    print(f\"⚙️ Using GPU: {gpu_name}\", flush=True)\n",
    "else:\n",
    "    print(\"⚙️ Using CPU\", flush=True)\n"
   ]
  },
  {
   "cell_type": "code",
   "execution_count": 2,
   "id": "b7caa539-ffd2-4e2f-b498-e7caf837e940",
   "metadata": {},
   "outputs": [
    {
     "data": {
      "text/html": [
       "<table border=\"1\" class=\"dataframe\">\n",
       "  <thead>\n",
       "    <tr style=\"text-align: left;\">\n",
       "      <th>epoch</th>\n",
       "      <th>train_loss</th>\n",
       "      <th>valid_loss</th>\n",
       "      <th>average_precision</th>\n",
       "      <th>time</th>\n",
       "    </tr>\n",
       "  </thead>\n",
       "  <tbody>\n",
       "    <tr>\n",
       "      <td>0</td>\n",
       "      <td>0.075554</td>\n",
       "      <td>0.084317</td>\n",
       "      <td>0.911746</td>\n",
       "      <td>11:51</td>\n",
       "    </tr>\n",
       "  </tbody>\n",
       "</table>"
      ],
      "text/plain": [
       "<IPython.core.display.HTML object>"
      ]
     },
     "metadata": {},
     "output_type": "display_data"
    },
    {
     "data": {
      "text/html": [],
      "text/plain": [
       "<IPython.core.display.HTML object>"
      ]
     },
     "metadata": {},
     "output_type": "display_data"
    },
    {
     "name": "stdout",
     "output_type": "stream",
     "text": [
      "Computing model metrics...\n",
      "💾 Checkpoint saved: C:\\Users\\ss2596\\Documents\\Njoko_model\\Ag_Object512(truefalse)\\checkpoint_epoch_6.dlpk\n",
      "📉 No improvement. 3 consecutive epochs without improvement.\n",
      "🛑 Early stopping triggered after 3 epochs without improvement.\n",
      "\n",
      "🎯 Final model saved: C:\\Users\\ss2596\\Documents\\Njoko_model\\Ag_Object512(truefalse)\\final_model.dlpk\n",
      "\n",
      "✅ Training complete.\n"
     ]
    }
   ],
   "source": [
    "import os\n",
    "import time\n",
    "import csv\n",
    "\n",
    "\n",
    "# Define path for saving training metrics\n",
    "metrics_file = os.path.join(model_output_path, \"training_metrics.csv\")\n",
    "\n",
    "# Write header to metrics CSV if it doesn't already exist\n",
    "if not os.path.exists(metrics_file):\n",
    "    with open(metrics_file, mode='w', newline='') as f:\n",
    "        writer = csv.writer(f)\n",
    "        writer.writerow([\"epoch\", \"train_loss\", \"valid_loss\", \"accuracy\", \"dice\", \"duration_mins\"])\n",
    "\n",
    "# ---- Early stopping setup ----\n",
    "best_loss = float('inf')     # Lowest validation loss seen so far\n",
    "patience = 3                 # Stop training if no improvement after this many epochs\n",
    "no_improve_epochs = 0        # Counter for consecutive non-improving epochs\n",
    "\n",
    "# ---- Begin training loop ----\n",
    "for epoch in range(epochsNum):\n",
    "    print(f\"\\n🔁 Starting epoch {epoch + 1}/{epochsNum}...\", flush=True)\n",
    "    start_time = time.time()\n",
    "\n",
    "    # Train for one epoch\n",
    "    model.fit(1)\n",
    "\n",
    "    # ---- Collect training and validation metrics ----\n",
    "    learner = model.learn\n",
    "    train_loss = learner.recorder.losses[-1].item()               # Last training loss\n",
    "    valid_loss, *metrics = learner.validate()                     # Validation loss and metrics\n",
    "    accuracy = float(metrics[0]) if len(metrics) > 0 else None    # Extract accuracy if available\n",
    "    dice = float(metrics[1]) if len(metrics) > 1 else None        # Extract dice coefficient if available\n",
    "    duration = round((time.time() - start_time) / 60, 2)          # Duration in minutes\n",
    "\n",
    "    # ---- Append metrics to CSV ----\n",
    "    with open(metrics_file, mode='a', newline='') as f:\n",
    "        writer = csv.writer(f)\n",
    "        writer.writerow([\n",
    "            epoch + 1,\n",
    "            round(train_loss, 4),\n",
    "            round(valid_loss, 4),\n",
    "            round(accuracy, 4) if accuracy is not None else None,\n",
    "            round(dice, 4) if dice is not None else None,\n",
    "            duration\n",
    "        ])\n",
    "\n",
    "    # ---- Save checkpoint for this epoch ----\n",
    "    checkpoint_path = os.path.join(model_output_path, f\"checkpoint_epoch_{epoch + 1}.dlpk\")\n",
    "    model.save(checkpoint_path, framework='PyTorch')\n",
    "    print(f\"💾 Checkpoint saved: {checkpoint_path}\", flush=True)\n",
    "\n",
    "\n",
    "    # ---- Early stopping check ----\n",
    "    if valid_loss < best_loss:\n",
    "        best_loss = valid_loss             # New best model\n",
    "        no_improve_epochs = 0              # Reset counter\n",
    "    else:\n",
    "        no_improve_epochs += 1             # Increment counter\n",
    "        print(f\"📉 No improvement. {no_improve_epochs} consecutive epochs without improvement.\")\n",
    "\n",
    "    # Trigger early stop if patience limit is reached\n",
    "    if no_improve_epochs >= patience:\n",
    "        print(f\"🛑 Early stopping triggered after {patience} epochs without improvement.\")\n",
    "        break\n",
    "\n",
    "# ---- Save final model after training completes or early stopping ----\n",
    "final_model_path = os.path.join(model_output_path, \"final_model.dlpk\")\n",
    "model.save(final_model_path, framework='PyTorch')\n",
    "print(f\"\\n🎯 Final model saved: {final_model_path}\", flush=True)\n",
    "\n",
    "print(\"\\n✅ Training complete.\")\n"
   ]
  },
  {
   "cell_type": "code",
   "execution_count": null,
   "id": "df69400a-4786-4448-9f2e-6ec4536ed20b",
   "metadata": {},
   "outputs": [],
   "source": []
  }
 ],
 "metadata": {
  "kernelspec": {
   "display_name": "Python 3 (ipykernel)",
   "language": "python",
   "name": "python3"
  },
  "language_info": {
   "codemirror_mode": {
    "name": "ipython",
    "version": 3
   },
   "file_extension": ".py",
   "mimetype": "text/x-python",
   "name": "python",
   "nbconvert_exporter": "python",
   "pygments_lexer": "ipython3",
   "version": "3.11.11"
  }
 },
 "nbformat": 4,
 "nbformat_minor": 5
}
