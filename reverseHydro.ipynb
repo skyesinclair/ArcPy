{
 "cells": [
  {
   "cell_type": "markdown",
   "id": "084c0a51-6123-4e22-83bf-d79750ae9ad7",
   "metadata": {},
   "source": [
    "# Install Rasterio for Python Import"
   ]
  },
  {
   "cell_type": "code",
   "execution_count": 1,
   "id": "36f55d3b",
   "metadata": {},
   "outputs": [
    {
     "name": "stdout",
     "output_type": "stream",
     "text": [
      "Defaulting to user installation because normal site-packages is not writeableNote: you may need to restart the kernel to use updated packages.\n",
      "\n",
      "Requirement already satisfied: rasterio in c:\\users\\ss2596\\appdata\\roaming\\python\\python311\\site-packages (1.4.3)\n",
      "Requirement already satisfied: affine in c:\\users\\ss2596\\appdata\\roaming\\python\\python311\\site-packages (from rasterio) (2.4.0)\n",
      "Requirement already satisfied: attrs in c:\\program files\\arcgis\\pro\\bin\\python\\envs\\arcgispro-py3\\lib\\site-packages (from rasterio) (23.1.0)\n",
      "Requirement already satisfied: certifi in c:\\program files\\arcgis\\pro\\bin\\python\\envs\\arcgispro-py3\\lib\\site-packages (from rasterio) (2024.8.30)\n",
      "Requirement already satisfied: click>=4.0 in c:\\program files\\arcgis\\pro\\bin\\python\\envs\\arcgispro-py3\\lib\\site-packages (from rasterio) (8.1.7)\n",
      "Requirement already satisfied: cligj>=0.5 in c:\\users\\ss2596\\appdata\\roaming\\python\\python311\\site-packages (from rasterio) (0.7.2)\n",
      "Requirement already satisfied: numpy>=1.24 in c:\\program files\\arcgis\\pro\\bin\\python\\envs\\arcgispro-py3\\lib\\site-packages (from rasterio) (1.24.3)\n",
      "Requirement already satisfied: click-plugins in c:\\users\\ss2596\\appdata\\roaming\\python\\python311\\site-packages (from rasterio) (1.1.1)\n",
      "Requirement already satisfied: pyparsing in c:\\program files\\arcgis\\pro\\bin\\python\\envs\\arcgispro-py3\\lib\\site-packages (from rasterio) (3.1.2)\n",
      "Requirement already satisfied: colorama in c:\\program files\\arcgis\\pro\\bin\\python\\envs\\arcgispro-py3\\lib\\site-packages (from click>=4.0->rasterio) (0.4.6)\n"
     ]
    }
   ],
   "source": [
    "%pip install rasterio"
   ]
  },
  {
   "cell_type": "markdown",
   "id": "6b97d3d7-24cf-4b61-8897-0d83d1818e85",
   "metadata": {},
   "source": [
    "# Imports and Variables \n",
    "## Set Files to Use and Output Names Here"
   ]
  },
  {
   "cell_type": "code",
   "execution_count": 2,
   "id": "4afdbbd1",
   "metadata": {},
   "outputs": [
    {
     "name": "stdout",
     "output_type": "stream",
     "text": [
      "C:\\Users\\ss2596\\OneDrive - The University of Waikato\\ArcGIS\\538_Projects\\FinalProject\n",
      "C:\\Users\\ss2596\\OneDrive - The University of Waikato\\ArcGIS\\538_Projects\\FinalProject\\output\n",
      "DEM file found: C:\\Users\\ss2596\\OneDrive - The University of Waikato\\ArcGIS\\538_Projects\\FinalProject\\input\\cormandel_dem25.tif\n",
      "Shape file found: C:\\Users\\ss2596\\OneDrive - The University of Waikato\\ArcGIS\\538_Projects\\FinalProject\\input\\lakes.shp\n"
     ]
    }
   ],
   "source": [
    "import rasterio\n",
    "import numpy as np\n",
    "import arcpy\n",
    "import os\n",
    "from arcpy import env, CheckOutExtension\n",
    "from arcpy.sa import *\n",
    "CheckOutExtension(\"Spatial\")\n",
    "\n",
    "#set workspace and overwrite option\n",
    "env.workspace = r'C:\\Users\\ss2596\\OneDrive - The University of Waikato\\ArcGIS\\538_Projects\\FinalProject\\output'\n",
    "env.overwriteOutput = True\n",
    "\n",
    "#What is the path for the elevation tif file?\n",
    "dem = r'C:\\Users\\ss2596\\OneDrive - The University of Waikato\\ArcGIS\\538_Projects\\FinalProject\\input\\cormandel_dem25.tif'\n",
    "#What is the path for the shape file? \n",
    "shape = r'C:\\Users\\ss2596\\OneDrive - The University of Waikato\\ArcGIS\\538_Projects\\FinalProject\\input\\lakes.shp'\n",
    "\n",
    "\n",
    "#What name should be prepended to the output polygons?\n",
    "output_prepend = 'Lakes'\n",
    "\n",
    "#Should the final polygon be simplified?\n",
    "#(if True, the final polygon will be smoothed, if False, it will follow the pixel edges)\n",
    "simplify = True\n",
    "\n",
    "#How many pixels from original shape should flow be calculated\n",
    "expand_count = 80\n",
    "\n",
    "#show working directory\n",
    "print(os.getcwd()) \n",
    "print(env.workspace)\n",
    "\n",
    "# Check if the dem and shape files exist\n",
    "if os.path.exists(dem):\n",
    "    print(f\"DEM file found: {dem}\")\n",
    "\n",
    "if os.path.exists(shape):\n",
    "    print(f\"Shape file found: {shape}\")"
   ]
  },
  {
   "cell_type": "markdown",
   "id": "252f23c7-f75b-4d27-b81d-e62ae240e7c9",
   "metadata": {},
   "source": [
    "## Open the original DEM and save its profile for later use"
   ]
  },
  {
   "cell_type": "code",
   "execution_count": 3,
   "id": "1b932f94",
   "metadata": {
    "scrolled": true
   },
   "outputs": [
    {
     "data": {
      "text/plain": [
       "{'driver': 'GTiff', 'dtype': 'int16', 'nodata': -32768.0, 'width': 2278, 'height': 3884, 'count': 1, 'crs': CRS.from_wkt('PROJCS[\"NZGD2000 / New Zealand Transverse Mercator 2000\",GEOGCS[\"NZGD2000\",DATUM[\"New_Zealand_Geodetic_Datum_2000\",SPHEROID[\"GRS 1980\",6378137,298.257222101,AUTHORITY[\"EPSG\",\"7019\"]],AUTHORITY[\"EPSG\",\"6167\"]],PRIMEM[\"Greenwich\",0],UNIT[\"degree\",0.0174532925199433,AUTHORITY[\"EPSG\",\"9122\"]]],PROJECTION[\"Transverse_Mercator\"],PARAMETER[\"latitude_of_origin\",0],PARAMETER[\"central_meridian\",173],PARAMETER[\"scale_factor\",0.9996],PARAMETER[\"false_easting\",1600000],PARAMETER[\"false_northing\",10000000],UNIT[\"metre\",1,AUTHORITY[\"EPSG\",\"9001\"]],AXIS[\"Easting\",EAST],AXIS[\"Northing\",NORTH]]'), 'transform': Affine(25.0, 0.0, 1806964.169031259,\n",
       "       0.0, -25.0, 5961579.434708128), 'blockxsize': 128, 'blockysize': 128, 'tiled': True, 'compress': 'lzw', 'interleave': 'band'}"
      ]
     },
     "execution_count": 3,
     "metadata": {},
     "output_type": "execute_result"
    }
   ],
   "source": [
    "with rasterio.open(dem) as src:\n",
    "    # save the georeferencing information for later use\n",
    "    georeference_metadata = src.profile\n",
    "georeference_metadata"
   ]
  },
  {
   "cell_type": "markdown",
   "id": "0fcfd295-fbfa-4b59-ac11-5e8e1da661ed",
   "metadata": {},
   "source": [
    "## Use the Fill tool and the FlowDirection tool to create Tiff files for processing"
   ]
  },
  {
   "cell_type": "code",
   "execution_count": 4,
   "id": "e26c034e",
   "metadata": {},
   "outputs": [
    {
     "name": "stdout",
     "output_type": "stream",
     "text": [
      "Filling DEM and saving to output/dem_fill.tif\n",
      "DEM fill saved to: C:\\Users\\ss2596\\OneDrive - The University of Waikato\\ArcGIS\\538_Projects\\FinalProject\\output\\dem_fill.tif\n",
      "Calculating Flow Direction\n",
      "Flow direction saved to: C:\\Users\\ss2596\\OneDrive - The University of Waikato\\ArcGIS\\538_Projects\\FinalProject\\output\\FlowDir.tif\n"
     ]
    }
   ],
   "source": [
    "#Fill DEM\n",
    "print(\"Filling DEM and saving to output/dem_fill.tif\")\n",
    "dem_fill = arcpy.sa.Fill(dem)\n",
    "dem_fill\n",
    "\n",
    "# Use absolute path for saving\n",
    "output_dem_fill = os.path.join(env.workspace, \"dem_fill.tif\")\n",
    "dem_fill.save(output_dem_fill)\n",
    "print(f\"DEM fill saved to: {output_dem_fill}\")\n",
    "\n",
    "#Flow Direction\n",
    "print(\"Calculating Flow Direction\")\n",
    "flow_dir = arcpy.sa.FlowDirection(dem_fill)\n",
    "output_flow_dir = os.path.join(env.workspace, \"FlowDir.tif\")\n",
    "flow_dir.save(output_flow_dir)\n",
    "print(f\"Flow direction saved to: {output_flow_dir}\")\n"
   ]
  },
  {
   "cell_type": "markdown",
   "id": "40295b32-9663-4ef2-b530-01d9006819b2",
   "metadata": {},
   "source": [
    "# Convert shapefile to raster format to enable pixel-based flow analysis"
   ]
  },
  {
   "cell_type": "code",
   "execution_count": 5,
   "id": "a19d206d-cfe4-45ed-b652-8868b6796148",
   "metadata": {},
   "outputs": [
    {
     "name": "stdout",
     "output_type": "stream",
     "text": [
      "Converting shapefile to raster\n",
      "Available fields in shapefile:\n",
      "  FID: OID\n",
      "  Shape: Geometry\n",
      "  SUFI: String\n",
      "  COUNT: Double\n",
      "  NAME: String\n",
      "  CREATED_DT: Date\n",
      "  MODIFIEDDT: Date\n",
      "  LAKE_TYPE: String\n",
      "  GROUP_NAME: String\n",
      "  LAKE_AREA: Double\n",
      "  LAKE_TOTLR: Double\n",
      "DEM cell size: 25.0\n",
      "Values in rasterized shapefile:\n",
      "  Value: 1, Count: 417\n",
      "Final raster values:\n",
      "  Value: 0, Count: 8847335\n",
      "  Value: 1, Count: 417\n"
     ]
    },
    {
     "data": {
      "image/png": "[encoded data removed]",
      "text/plain": [
       "C:\\Users\\ss2596\\OneDrive - The University of Waikato\\ArcGIS\\538_Projects\\FinalProject\\output\\shape_raster.tif"
      ]
     },
     "execution_count": 5,
     "metadata": {},
     "output_type": "execute_result"
    }
   ],
   "source": [
    "\n",
    "print(\"Converting shapefile to raster\")\n",
    "\n",
    "# Set processing extent to match the filled DEM for consistent spatial alignment\n",
    "arcpy.env.extent = dem_fill\n",
    "\n",
    "# Examine the attribute fields available in the input shapefile\n",
    "field_list = arcpy.ListFields(shape)\n",
    "print(\"Available fields in shapefile:\")\n",
    "for field in field_list:\n",
    "    print(f\"  {field.name}: {field.type}\")\n",
    "\n",
    "# Create a working copy of the shapefile to preserve the original data\n",
    "shape_copy = os.path.join(env.workspace, \"shape_copy.shp\")\n",
    "arcpy.CopyFeatures_management(shape, shape_copy)\n",
    "\n",
    "# Add a uniform field with value 1 to identify all shape polygons consistently\n",
    "# This ensures all shape areas have the same raster value after conversion\n",
    "arcpy.AddField_management(shape_copy, \"CONSTANT\", \"SHORT\")\n",
    "arcpy.CalculateField_management(shape_copy, \"CONSTANT\", \"1\", \"PYTHON3\")\n",
    "\n",
    "# Extract the cell size from the filled DEM to maintain spatial resolution consistency\n",
    "with rasterio.open(os.path.join(env.workspace, \"dem_fill.tif\")) as src:\n",
    "    dem_cellsize = abs(src.transform[0])  # Get pixel size from transformation matrix\n",
    "\n",
    "print(f\"DEM cell size: {dem_cellsize}\")\n",
    "\n",
    "# Convert polygon features to raster using maximum area method\n",
    "shape_raster_output = os.path.join(env.workspace, \"shape_raster.tif\")\n",
    "shape_raster = arcpy.PolygonToRaster_conversion(shape_copy, \"CONSTANT\", shape_raster_output, \n",
    "                                               \"MAXIMUM_AREA\", \"NONE\", dem_cellsize)\n",
    "\n",
    "# Convert the rasterized data to a NumPy array for numerical processing\n",
    "shape_raster_array = arcpy.RasterToNumPyArray(shape_raster_output)\n",
    "\n",
    "# Verify successful conversion by checking the distribution of pixel values\n",
    "unique_values, counts = np.unique(shape_raster_array, return_counts=True)\n",
    "print(\"Values in rasterized shapefile:\")\n",
    "for value, count in zip(unique_values, counts):\n",
    "    if value != 0:  # Exclude background/NoData pixels\n",
    "        print(f\"  Value: {value}, Count: {count}\")\n",
    "\n",
    "# Write the NumPy array to a georeferenced raster file using the DEM's spatial reference\n",
    "with rasterio.open(shape_raster_output, 'w', **georeference_metadata) as dst:\n",
    "    dst.write(shape_raster_array, 1)\n",
    "\n",
    "# Final validation: confirm the raster contains the expected lake pixel values\n",
    "shape_raster_array_final = arcpy.RasterToNumPyArray(shape_raster_output)\n",
    "unique_values, counts = np.unique(shape_raster_array_final, return_counts=True)\n",
    "print(\"Final raster values:\")\n",
    "for value, count in zip(unique_values, counts):\n",
    "    print(f\"  Value: {value}, Count: {count}\")\n",
    "\n",
    "# Create an ArcPy raster object for subsequent hydrological analysis\n",
    "raster = arcpy.Raster(shape_raster_output)\n",
    "raster"
   ]
  },
  {
   "cell_type": "markdown",
   "id": "28af5c03-e622-48b6-8bb5-27d8cd01ef35",
   "metadata": {},
   "source": [
    "# Convert rasters to arrays and expand shape based on the DEM tiff"
   ]
  },
  {
   "cell_type": "code",
   "execution_count": 6,
   "id": "6e8f03f7-8d68-447c-b1dc-84d3a3717838",
   "metadata": {},
   "outputs": [
    {
     "name": "stdout",
     "output_type": "stream",
     "text": [
      "Iterations remaining:\n",
      "80\n",
      "72\n",
      "64\n",
      "56\n",
      "48\n",
      "40\n",
      "32\n",
      "24\n",
      "16\n",
      "8\n",
      "Updated shape array saved as 'C:\\Users\\ss2596\\OneDrive - The University of Waikato\\ArcGIS\\538_Projects\\FinalProject\\output\\new_shape_array.tif'\n",
      "Final raster values:\n",
      "  Value: 0, Count: 8755518\n",
      "  Value: 1, Count: 92234\n"
     ]
    }
   ],
   "source": [
    "\n",
    "shape_raster_path = os.path.join(env.workspace, \"shape_raster.tif\")\n",
    "dem_fill_path = os.path.join(env.workspace, \"dem_fill.tif\")\n",
    "\n",
    "# Read both rasters as numpy arrays\n",
    "with rasterio.open(shape_raster_path) as src_shape:\n",
    "    shape_data = src_shape.read(1).astype(np.int32)\n",
    "\n",
    "with rasterio.open(dem_fill_path) as src_flow:\n",
    "    dem_fill_data = src_flow.read(1).astype(np.float32)  # Convert to float to handle inf\n",
    "\n",
    "\n",
    "rows, cols = shape_data.shape\n",
    "\n",
    "# Set all cells with value greater than 0 to expand_count\n",
    "shape_data[shape_data > 0] = expand_count\n",
    "\n",
    "\n",
    "# Pre-allocate arrays for efficiency\n",
    "padded_shape = np.pad(shape_data, 1, mode='constant', constant_values=0)\n",
    "padded_dem = np.pad(dem_fill_data, 1, mode='constant', constant_values=np.inf)\n",
    "\n",
    "print(\"Iterations remaining:\")\n",
    "\n",
    "for current_value in range(expand_count, 0, -1):\n",
    "    if current_value >= 1:\n",
    "        next_value = current_value - 1\n",
    "        if current_value % (expand_count * 0.1) == 0:\n",
    "            print(current_value)\n",
    "        \n",
    "        # Find current cells (with padding offset)\n",
    "        current_cells = (padded_shape == current_value)\n",
    "        \n",
    "        if np.any(current_cells):\n",
    "            # Find all neighbor positions that could be expanded\n",
    "            candidates = (padded_shape == 0)\n",
    "            \n",
    "            # Check 8-connected neighbors efficiently\n",
    "            for dr in [-1, 0, 1]:\n",
    "                for dc in [-1, 0, 1]:\n",
    "                    if dr == 0 and dc == 0:\n",
    "                        continue\n",
    "                    \n",
    "                    # Shift arrays to check neighbors\n",
    "                    shifted_current = np.roll(np.roll(current_cells, dr, axis=0), dc, axis=1)\n",
    "                    shifted_dem_current = np.roll(np.roll(padded_dem, dr, axis=0), dc, axis=1)\n",
    "                    \n",
    "                    # Find candidates that have current_value neighbors with lower elevation\n",
    "                    valid_expansion = candidates & shifted_current & (padded_dem >= shifted_dem_current)\n",
    "                    \n",
    "                    # Update these cells\n",
    "                    padded_shape[valid_expansion] = next_value\n",
    "\n",
    "# Remove padding\n",
    "shape_data = padded_shape[1:-1, 1:-1]\n",
    "\n",
    "# Convert all non-zero pixels to 1 while leaving zero pixels as 0\n",
    "shape_data[shape_data != 0] = 1\n",
    "\n",
    "# Save the updated array\n",
    "new_shape_array_path = os.path.join(env.workspace, \"new_shape_array.tif\")\n",
    "with rasterio.open(new_shape_array_path, 'w', **georeference_metadata) as dst:\n",
    "    dst.write(shape_data, 1)\n",
    "\n",
    "print(f\"Updated shape array saved as '{new_shape_array_path}'\")\n",
    "\n",
    "# Verify the final result\n",
    "shape_raster_array_final = arcpy.RasterToNumPyArray(new_shape_array_path)\n",
    "unique_values, counts = np.unique(shape_raster_array_final, return_counts=True)\n",
    "print(\"Final raster values:\")\n",
    "for value, count in zip(unique_values, counts):\n",
    "    print(f\"  Value: {value}, Count: {count}\")"
   ]
  },
  {
   "cell_type": "code",
   "execution_count": 7,
   "id": "472997e5-ac18-4a5d-bd30-9911bc63710c",
   "metadata": {},
   "outputs": [],
   "source": [
    "# Convert Rasters to arrays and expand the shape based on the Flow Direction tiff"
   ]
  },
  {
   "cell_type": "code",
   "execution_count": 8,
   "id": "14885d75",
   "metadata": {},
   "outputs": [],
   "source": [
    "def likely_shape():\n",
    "\n",
    "    # Read shape raster\n",
    "    with rasterio.open(os.path.join(env.workspace, 'shape_raster.tif')) as src_shape:\n",
    "        shape_data = src_shape.read(1).astype(np.int32)\n",
    "\n",
    "    # Read flow direction raster\n",
    "    with rasterio.open(os.path.join(env.workspace, 'FlowDir.tif')) as src_flow:\n",
    "        flow_data = src_flow.read(1).astype(np.int32)  \n",
    "\n",
    "    # Initialize shape data - set initial shape pixels to expand_count\n",
    "    shape_data[shape_data > 0] = expand_count\n",
    "    \n",
    "    # Create padded arrays for edge handling\n",
    "    padded_shape = np.pad(shape_data, 1, mode='constant', constant_values=0)\n",
    "    padded_flow = np.pad(flow_data, 1, mode='constant', constant_values=0)\n",
    "    \n",
    "    print(\"Processing with flow direction expansion:\")\n",
    "    print(\"Iterations remaining:\")\n",
    "    \n",
    "    # ArcGIS flow direction values and corresponding shift directions\n",
    "    # 1=E, 2=SE, 4=S, 8=SW, 16=W, 32=NW, 64=N, 128=NE\n",
    "    flow_shifts = {\n",
    "        1: (0, 1),    # Flow East -> coming from West\n",
    "        2: (1, 1),    # Flow Southeast -> coming from Northwest\n",
    "        4: (1, 0),    # Flow South -> coming from North\n",
    "        8: (1, -1),   # Flow Southwest -> coming from Northeast\n",
    "        16: (0, -1),  # Flow West -> coming from East\n",
    "        32: (-1, -1), # Flow Northwest -> coming from Southeast\n",
    "        64: (-1, 0),  # Flow North -> coming from South\n",
    "        128: (-1, 1)  # Flow Northeast -> coming from Southwest\n",
    "    }\n",
    "    \n",
    "    \n",
    "    # Iteratively expand the shape\n",
    "    for current_value in range(expand_count, 0, -1):\n",
    "        if current_value % (expand_count * 0.1) == 0:\n",
    "            print(current_value)\n",
    "            \n",
    "        next_value = current_value - 1\n",
    "        \n",
    "        # Find cells with current value\n",
    "        current_cells = (padded_shape == current_value)\n",
    "        \n",
    "        if not np.any(current_cells):\n",
    "            continue\n",
    "            \n",
    "        # Find candidate cells (value = 0)\n",
    "        candidates = (padded_shape == 0)\n",
    "        \n",
    "        # For each flow direction, check if candidates flow toward current cells\n",
    "        for flow_val, (dr, dc) in flow_shifts.items():\n",
    "            # Find candidates with this flow direction\n",
    "            flow_candidates = candidates & (padded_flow == flow_val)\n",
    "            \n",
    "            if not np.any(flow_candidates):\n",
    "                continue\n",
    "                \n",
    "            # Check if these candidates flow toward a current cell\n",
    "            target_is_current = np.roll(np.roll(current_cells, -dr, axis=0), -dc, axis=1)\n",
    "            \n",
    "            # Valid expansion: candidate cells that flow toward current cells\n",
    "            valid_expansion = flow_candidates & target_is_current\n",
    "            \n",
    "            # Update these cells\n",
    "            padded_shape[valid_expansion] = next_value\n",
    "    \n",
    "    # Remove padding\n",
    "    shape_data = padded_shape[1:-1, 1:-1]\n",
    "    \n",
    "    # Convert all non-zero pixels to 1\n",
    "    shape_data[shape_data != 0] = 1\n",
    "    \n",
    "    # Save the updated array\n",
    "    output_new_shape = os.path.join(env.workspace, 'new_shape_array_likely.tif')\n",
    "    with rasterio.open(output_new_shape, 'w', **georeference_metadata) as dst:\n",
    "        dst.write(shape_data, 1)\n",
    "        \n",
    "    print(f\"Updated shape array saved as '{output_new_shape}'\")\n",
    "    \n",
    "    # Verify the final result\n",
    "    shape_raster_array_final = arcpy.RasterToNumPyArray(output_new_shape)\n",
    "    unique_values, counts = np.unique(shape_raster_array_final, return_counts=True)\n",
    "    print(\"Final raster values:\")\n",
    "    for value, count in zip(unique_values, counts):\n",
    "        print(f\"  Value: {value}, Count: {count}\")\n",
    "\n"
   ]
  },
  {
   "cell_type": "markdown",
   "id": "efd7d9bf-af3d-4773-9052-d4628b451d73",
   "metadata": {},
   "source": [
    "### Call the likely_shape function.\n",
    "### Process was made into a function for future improvements"
   ]
  },
  {
   "cell_type": "code",
   "execution_count": 9,
   "id": "cefebd56",
   "metadata": {},
   "outputs": [
    {
     "name": "stdout",
     "output_type": "stream",
     "text": [
      "Processing with flow direction expansion:\n",
      "Iterations remaining:\n",
      "80\n",
      "72\n",
      "64\n",
      "56\n",
      "48\n",
      "40\n",
      "32\n",
      "24\n",
      "16\n",
      "8\n",
      "Updated shape array saved as 'C:\\Users\\ss2596\\OneDrive - The University of Waikato\\ArcGIS\\538_Projects\\FinalProject\\output\\new_shape_array_likely.tif'\n",
      "Final raster values:\n",
      "  Value: 0, Count: 8835812\n",
      "  Value: 1, Count: 11940\n"
     ]
    }
   ],
   "source": [
    "likely_shape()"
   ]
  },
  {
   "cell_type": "markdown",
   "id": "e0687743-574b-4a50-9891-55963c0a7d1e",
   "metadata": {},
   "source": [
    "# Convert the resulting rasters to polygon shapes and save them as shp files in the output folder.\n",
    "## Clean up variables and temp files"
   ]
  },
  {
   "cell_type": "code",
   "execution_count": 10,
   "id": "acfa6143-8669-46a6-9d8c-8a0c0dab2142",
   "metadata": {},
   "outputs": [
    {
     "name": "stdout",
     "output_type": "stream",
     "text": [
      "Converting new_shape_array.tif to shapefile\n",
      "Raster converted to temporary shapefile: C:\\Users\\ss2596\\OneDrive - The University of Waikato\\ArcGIS\\538_Projects\\FinalProject\\output\\temp_Lakes_rh_polygon.shp\n",
      "Final shapefile saved as: C:\\Users\\ss2596\\OneDrive - The University of Waikato\\ArcGIS\\538_Projects\\FinalProject\\output\\Lakes_rh_polygon.shp\n",
      "Converting new_shape_array_likely.tif to shapefile\n",
      "Raster converted to temporary shapefile: C:\\Users\\ss2596\\OneDrive - The University of Waikato\\ArcGIS\\538_Projects\\FinalProject\\output\\temp_Lakes_rh_polygon_likely.shp\n",
      "Final shapefile saved as: C:\\Users\\ss2596\\OneDrive - The University of Waikato\\ArcGIS\\538_Projects\\FinalProject\\output\\Lakes_rh_polygon_likely.shp\n",
      "Cleaning up temporary files...\n",
      "Temporary files deleted and final shapefiles created.\n",
      "Final shapefiles saved as: C:\\Users\\ss2596\\OneDrive - The University of Waikato\\ArcGIS\\538_Projects\\FinalProject\\output\\Lakes_rh_polygon.shp and C:\\Users\\ss2596\\OneDrive - The University of Waikato\\ArcGIS\\538_Projects\\FinalProject\\output\\Lakes_rh_polygon_likely.shp\n"
     ]
    }
   ],
   "source": [
    "# Function to convert raster to polygon shapefile, used for both Possible and Likely tif conversions\n",
    "def convert_raster_to_polygon(input_raster, output_shapefile):\n",
    "    print(f\"Converting {os.path.basename(input_raster)} to shapefile\")\n",
    "    temp_polygon = os.path.join(env.workspace, f\"temp_{os.path.basename(output_shapefile)}\")\n",
    "\n",
    "    # Ensure the raster is of integer type\n",
    "    int_raster = os.path.join(env.workspace, \"int_raster.tif\")\n",
    "    arcpy.sa.Int(input_raster).save(int_raster)\n",
    "\n",
    "    # Convert raster to polygon\n",
    "    arcpy.RasterToPolygon_conversion(int_raster, temp_polygon, simplify, \"VALUE\")\n",
    "    print(f\"Raster converted to temporary shapefile: {temp_polygon}\")\n",
    "\n",
    "    # Create a feature layer and select only polygons with gridcode > 0\n",
    "    arcpy.MakeFeatureLayer_management(temp_polygon, \"temp_layer\")\n",
    "    arcpy.SelectLayerByAttribute_management(\"temp_layer\", \"NEW_SELECTION\", \"gridcode > 0\")\n",
    "\n",
    "    # Export selected features to a new shapefile\n",
    "    arcpy.CopyFeatures_management(\"temp_layer\", output_shapefile)\n",
    "    print(f\"Final shapefile saved as: {output_shapefile}\")\n",
    "\n",
    "    # Clean up temporary layer\n",
    "    arcpy.Delete_management(\"temp_layer\")\n",
    "    arcpy.Delete_management(temp_polygon)\n",
    "    arcpy.Delete_management(int_raster)\n",
    "\n",
    "    return temp_polygon\n",
    "\n",
    "# Define input and output paths\n",
    "array_raster = os.path.join(env.workspace, \"new_shape_array.tif\")\n",
    "likely_array_raster = os.path.join(env.workspace, \"new_shape_array_likely.tif\")\n",
    "final_polygon = os.path.join(env.workspace, output_prepend+\"_rh_polygon.shp\")\n",
    "final_likely_polygon = os.path.join(env.workspace, output_prepend+\"_rh_polygon_likely.shp\")\n",
    "\n",
    "# Convert both rasters to shapefiles\n",
    "temp_polygon1 = convert_raster_to_polygon(array_raster, final_polygon)\n",
    "temp_polygon2 = convert_raster_to_polygon(likely_array_raster, final_likely_polygon)\n",
    "\n",
    "# Clean up all temporary files\n",
    "print(\"Cleaning up temporary files...\")\n",
    "temp_files = [\n",
    "    temp_polygon1,\n",
    "    temp_polygon2,\n",
    "    array_raster,\n",
    "    likely_array_raster,\n",
    "    os.path.join(env.workspace, \"dem_fill.tif\"),\n",
    "    os.path.join(env.workspace, \"shape_raster.tif\"),\n",
    "    os.path.join(env.workspace, \"shape_copy.shp\"),\n",
    "    os.path.join(env.workspace, \"FlowDir.tif\")\n",
    "]\n",
    "\n",
    "for file in temp_files:\n",
    "    try:\n",
    "        arcpy.Delete_management(file)\n",
    "    except:\n",
    "        print(f\"Could not delete {file}\")\n",
    "\n",
    "# Clear any remaining temporary workspace objects\n",
    "arcpy.ClearWorkspaceCache_management(env.workspace)\n",
    "print(\"Temporary files deleted and final shapefiles created.\")\n",
    "print(f\"Final shapefiles saved as: {final_polygon} and {final_likely_polygon}\")"
   ]
  },
  {
   "cell_type": "code",
   "execution_count": null,
   "id": "753baab1-351a-4e15-8c82-f56ce13ec0d7",
   "metadata": {},
   "outputs": [],
   "source": []
  }
 ],
 "metadata": {
  "kernelspec": {
   "display_name": "Python 3 (ipykernel)",
   "language": "python",
   "name": "python3"
  },
  "language_info": {
   "codemirror_mode": {
    "name": "ipython",
    "version": 3
   },
   "file_extension": ".py",
   "mimetype": "text/x-python",
   "name": "python",
   "nbconvert_exporter": "python",
   "pygments_lexer": "ipython3",
   "version": "3.11.10"
  }
 },
 "nbformat": 4,
 "nbformat_minor": 5
}
