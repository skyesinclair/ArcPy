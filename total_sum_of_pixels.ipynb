{
 "cells": [
  {
   "cell_type": "code",
   "execution_count": 3,
   "id": "c4eda9c8-9f0b-4602-9f4c-54c4501b01e2",
   "metadata": {},
   "outputs": [
    {
     "name": "stdout",
     "output_type": "stream",
     "text": [
      "Sum of all raster pixel values: 63906.83984375\n"
     ]
    }
   ],
   "source": [
    "import arcpy\n",
    "import numpy as np\n",
    "\n",
    "# Set your workspace or environment\n",
    "arcpy.env.workspace = r\"C:\\Users\\ss2596\\The University of Waikato\\Lars Brabyn - Skye\\00 Jake Overton\\Njoko_Map\\ArcPy\"\n",
    "\n",
    "# Load the raster\n",
    "raster_path = r\"C:\\Users\\ss2596\\The University of Waikato\\Lars Brabyn - Skye\\00 Jake Overton\\Njoko_Map\\ZMB_population_2022_v2__AOI_clip.tif\"\n",
    "raster = arcpy.Raster(raster_path)\n",
    "\n",
    "# Convert raster to NumPy array\n",
    "array = arcpy.RasterToNumPyArray(raster, nodata_to_value=np.nan)  # use nodata_to_value=None to keep NoData\n",
    "\n",
    "# Sum all non-NaN (valid) pixel values\n",
    "pixel_sum = np.nansum(array)\n",
    "\n",
    "print(f\"Sum of all raster pixel values: {pixel_sum}\")"
   ]
  },
  {
   "cell_type": "code",
   "execution_count": null,
   "id": "39233578-b54f-417e-a19f-19b12ec11503",
   "metadata": {},
   "outputs": [],
   "source": []
  }
 ],
 "metadata": {
  "kernelspec": {
   "display_name": "Python 3 (ipykernel)",
   "language": "python",
   "name": "python3"
  },
  "language_info": {
   "codemirror_mode": {
    "name": "ipython",
    "version": 3
   },
   "file_extension": ".py",
   "mimetype": "text/x-python",
   "name": "python",
   "nbconvert_exporter": "python",
   "pygments_lexer": "ipython3",
   "version": "3.11.11"
  }
 },
 "nbformat": 4,
 "nbformat_minor": 5
}
