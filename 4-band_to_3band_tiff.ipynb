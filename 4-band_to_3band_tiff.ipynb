{
 "cells": [
  {
   "cell_type": "code",
   "execution_count": 1,
   "id": "b9390ef2-f8e8-4c65-9551-5791467f4e38",
   "metadata": {},
   "outputs": [
    {
     "name": "stdout",
     "output_type": "stream",
     "text": [
      "Successfully created 3-band raster:\n",
      "C:\\Users\\ss2596\\Documents\\Njoko_Raster_L18\\njoko_5-7_3band.tif\n"
     ]
    }
   ],
   "source": [
    "import arcpy\n",
    "import os\n",
    "\n",
    "input_raster = r\"C:\\Users\\ss2596\\Documents\\Njoko_Raster_L18\\njoko_5-7.tif\"\n",
    "output_raster = r\"C:\\Users\\ss2596\\Documents\\Njoko_Raster_L18\\njoko_5-7_3band.tif\"\n",
    "temp_folder = r\"C:\\Users\\ss2596\\Documents\\Njoko_Raster_L18\\temp_bands\"\n",
    "\n",
    "# Create temp folder if it doesn't exist\n",
    "if not os.path.exists(temp_folder):\n",
    "    os.makedirs(temp_folder)\n",
    "\n",
    "try:\n",
    "    # Paths for temp single-band rasters\n",
    "    band1_raster = os.path.join(temp_folder, \"band1.tif\")\n",
    "    band2_raster = os.path.join(temp_folder, \"band2.tif\")\n",
    "    band3_raster = os.path.join(temp_folder, \"band3.tif\")\n",
    "\n",
    "    # Extract bands using Copy Raster with band index\n",
    "    arcpy.management.CopyRaster(input_raster + \"\\\\Band_1\", band1_raster)\n",
    "    arcpy.management.CopyRaster(input_raster + \"\\\\Band_2\", band2_raster)\n",
    "    arcpy.management.CopyRaster(input_raster + \"\\\\Band_3\", band3_raster)\n",
    "\n",
    "    # Composite the three single-band rasters\n",
    "    arcpy.CompositeBands_management([band1_raster, band2_raster, band3_raster], output_raster)\n",
    "\n",
    "    print(f\"Successfully created 3-band raster:\\n{output_raster}\")\n",
    "\n",
    "except arcpy.ExecuteError:\n",
    "    print(arcpy.GetMessages(2))\n",
    "\n",
    "except Exception as e:\n",
    "    print(f\"Error: {e}\")\n"
   ]
  },
  {
   "cell_type": "code",
   "execution_count": null,
   "id": "6b9212fa-55fa-49de-9b9b-bd6745841336",
   "metadata": {},
   "outputs": [],
   "source": []
  }
 ],
 "metadata": {
  "kernelspec": {
   "display_name": "Python 3 (ipykernel)",
   "language": "python",
   "name": "python3"
  },
  "language_info": {
   "codemirror_mode": {
    "name": "ipython",
    "version": 3
   },
   "file_extension": ".py",
   "mimetype": "text/x-python",
   "name": "python",
   "nbconvert_exporter": "python",
   "pygments_lexer": "ipython3",
   "version": "3.11.11"
  }
 },
 "nbformat": 4,
 "nbformat_minor": 5
}
